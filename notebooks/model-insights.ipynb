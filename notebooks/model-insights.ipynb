{
 "cells": [
  {
   "cell_type": "markdown",
   "metadata": {},
   "source": [
    "## This notebook is meant to further investigate model performance"
   ]
  },
  {
   "cell_type": "code",
   "execution_count": 1,
   "metadata": {
    "collapsed": false
   },
   "outputs": [],
   "source": [
    "import pandas as pd\n",
    "import matplotlib.pyplot as plt\n",
    "import numpy as np\n",
    "import os\n",
    "from scipy.stats import linregress\n",
    "from bltools import letter_subplots\n",
    "from scipy.spatial import distance"
   ]
  },
  {
   "cell_type": "markdown",
   "metadata": {},
   "source": [
    "load up the performances of each model\n",
    "- each of the performances are based on the model that experienced the minimum validation mean squared error"
   ]
  },
  {
   "cell_type": "code",
   "execution_count": 2,
   "metadata": {
    "collapsed": false
   },
   "outputs": [],
   "source": [
    "topHRperf_grey = \"../TOPMODS/val_mse/hr_greyscale/QBC.csv\"\n",
    "topHRperf_red = \"../TOPMODS/val_mse/hr_redscale/QBC.csv\"\n",
    "topRRperf_grey = \"../TOPMODS/val_mse/rr_greyscale/QBC.csv\"\n",
    "topRRperf_red = \"../TOPMODS/val_mse/rr_redscale/QBC.csv\"\n",
    "topHR_RRperf_grey = \"../TOPMODS/val_mse/hr_rr_greyscale/QBC.csv\"\n",
    "topHR_RRperf_red  = \"../TOPMODS/val_mse/hr_rr_redscale/QBC.csv\"\n",
    "\n",
    "perfs = [topHRperf_grey,topHRperf_red ,topRRperf_red, topRRperf_grey, topHR_RRperf_grey, topHR_RRperf_red]\n",
    "perfnames =  'topHRperf_grey,topHRperf_red,topRRperf_red,topRRperf_grey,topHR_RRperf_grey,topHR_RRperf_red'.split(',')"
   ]
  },
  {
   "cell_type": "code",
   "execution_count": 3,
   "metadata": {
    "collapsed": false
   },
   "outputs": [],
   "source": [
    "experiment2perfdf = dict(zip(perfnames,[pd.read_csv(perf) for perf in perfs]))"
   ]
  },
  {
   "cell_type": "markdown",
   "metadata": {},
   "source": [
    "Unpack some useful lists of values"
   ]
  },
  {
   "cell_type": "code",
   "execution_count": 4,
   "metadata": {
    "collapsed": false
   },
   "outputs": [],
   "source": [
    "HRg        = experiment2perfdf['topHRperf_grey'].QBC_hr.values.tolist()\n",
    "HRr        = experiment2perfdf['topHRperf_red'].QBC_hr.values.tolist()\n",
    "HR_RRg__HR = experiment2perfdf['topHR_RRperf_grey'].QBC_hr.values.tolist()\n",
    "HR_RRr__HR = experiment2perfdf['topHR_RRperf_red'].QBC_hr.values.tolist()\n",
    "HR_RRg__RR = experiment2perfdf['topHR_RRperf_grey'].QBC_rr.values.tolist()\n",
    "HR_RRr__RR = experiment2perfdf['topHR_RRperf_red'].QBC_rr.values.tolist()\n",
    "RRg        = experiment2perfdf['topRRperf_grey'].QBC_rr.values.tolist()\n",
    "RRr        = experiment2perfdf['topRRperf_red'].QBC_rr.values.tolist()\n",
    "\n",
    "HR_actual = experiment2perfdf['topHRperf_grey'].actual_hr.values.tolist()\n",
    "RR_actual = experiment2perfdf['topRRperf_grey'].actual_rr.values.tolist()\n",
    "cols = 'HRg,HRr,HR_RRg__HR,HR_RRr__HR,HR_RRg__RR,HR_RRr__RR,RRg,RRr'.split(',')\n",
    "\n",
    "\n",
    "perfdf = pd.DataFrame(dict(zip(cols,[HRg,HRr,\n",
    "                                     HR_RRg__HR,HR_RRr__HR,\n",
    "                                     HR_RRg__RR,HR_RRr__RR,\n",
    "                                     RRg,RRr])))"
   ]
  },
  {
   "cell_type": "code",
   "execution_count": 5,
   "metadata": {
    "collapsed": false
   },
   "outputs": [
    {
     "data": {
      "text/html": [
       "<div>\n",
       "<style scoped>\n",
       "    .dataframe tbody tr th:only-of-type {\n",
       "        vertical-align: middle;\n",
       "    }\n",
       "\n",
       "    .dataframe tbody tr th {\n",
       "        vertical-align: top;\n",
       "    }\n",
       "\n",
       "    .dataframe thead th {\n",
       "        text-align: right;\n",
       "    }\n",
       "</style>\n",
       "<table border=\"1\" class=\"dataframe\">\n",
       "  <thead>\n",
       "    <tr style=\"text-align: right;\">\n",
       "      <th></th>\n",
       "      <th>HRg</th>\n",
       "      <th>HRr</th>\n",
       "      <th>HR_RRg__HR</th>\n",
       "      <th>HR_RRr__HR</th>\n",
       "      <th>HR_RRg__RR</th>\n",
       "      <th>HR_RRr__RR</th>\n",
       "      <th>RRg</th>\n",
       "      <th>RRr</th>\n",
       "    </tr>\n",
       "  </thead>\n",
       "  <tbody>\n",
       "    <tr>\n",
       "      <th>0</th>\n",
       "      <td>96.336723</td>\n",
       "      <td>96.608612</td>\n",
       "      <td>100.684937</td>\n",
       "      <td>91.313873</td>\n",
       "      <td>25.921896</td>\n",
       "      <td>24.963932</td>\n",
       "      <td>34.506329</td>\n",
       "      <td>26.634035</td>\n",
       "    </tr>\n",
       "    <tr>\n",
       "      <th>1</th>\n",
       "      <td>61.106365</td>\n",
       "      <td>60.577675</td>\n",
       "      <td>63.917419</td>\n",
       "      <td>77.693161</td>\n",
       "      <td>19.806232</td>\n",
       "      <td>22.938900</td>\n",
       "      <td>20.959431</td>\n",
       "      <td>25.015287</td>\n",
       "    </tr>\n",
       "    <tr>\n",
       "      <th>2</th>\n",
       "      <td>74.773361</td>\n",
       "      <td>63.781818</td>\n",
       "      <td>74.614304</td>\n",
       "      <td>80.838310</td>\n",
       "      <td>21.277245</td>\n",
       "      <td>28.016802</td>\n",
       "      <td>19.853979</td>\n",
       "      <td>20.950340</td>\n",
       "    </tr>\n",
       "    <tr>\n",
       "      <th>3</th>\n",
       "      <td>69.839767</td>\n",
       "      <td>74.771225</td>\n",
       "      <td>81.606667</td>\n",
       "      <td>68.949738</td>\n",
       "      <td>21.181307</td>\n",
       "      <td>23.664530</td>\n",
       "      <td>20.430311</td>\n",
       "      <td>19.148842</td>\n",
       "    </tr>\n",
       "    <tr>\n",
       "      <th>4</th>\n",
       "      <td>73.365242</td>\n",
       "      <td>79.375847</td>\n",
       "      <td>76.005867</td>\n",
       "      <td>67.936562</td>\n",
       "      <td>20.758062</td>\n",
       "      <td>23.895517</td>\n",
       "      <td>20.583622</td>\n",
       "      <td>20.351530</td>\n",
       "    </tr>\n",
       "    <tr>\n",
       "      <th>5</th>\n",
       "      <td>83.664459</td>\n",
       "      <td>79.465599</td>\n",
       "      <td>85.694916</td>\n",
       "      <td>77.182121</td>\n",
       "      <td>21.698246</td>\n",
       "      <td>25.170258</td>\n",
       "      <td>20.698967</td>\n",
       "      <td>25.100145</td>\n",
       "    </tr>\n",
       "    <tr>\n",
       "      <th>6</th>\n",
       "      <td>62.742535</td>\n",
       "      <td>57.599476</td>\n",
       "      <td>51.538155</td>\n",
       "      <td>76.924507</td>\n",
       "      <td>16.354155</td>\n",
       "      <td>21.558449</td>\n",
       "      <td>23.178926</td>\n",
       "      <td>22.651264</td>\n",
       "    </tr>\n",
       "    <tr>\n",
       "      <th>7</th>\n",
       "      <td>73.745934</td>\n",
       "      <td>66.579956</td>\n",
       "      <td>78.742897</td>\n",
       "      <td>73.162376</td>\n",
       "      <td>21.641808</td>\n",
       "      <td>25.350195</td>\n",
       "      <td>20.000395</td>\n",
       "      <td>24.353687</td>\n",
       "    </tr>\n",
       "    <tr>\n",
       "      <th>8</th>\n",
       "      <td>103.035149</td>\n",
       "      <td>98.693710</td>\n",
       "      <td>92.351860</td>\n",
       "      <td>86.441864</td>\n",
       "      <td>23.209007</td>\n",
       "      <td>26.362648</td>\n",
       "      <td>20.588232</td>\n",
       "      <td>25.438570</td>\n",
       "    </tr>\n",
       "    <tr>\n",
       "      <th>9</th>\n",
       "      <td>76.909554</td>\n",
       "      <td>77.458908</td>\n",
       "      <td>81.583443</td>\n",
       "      <td>76.312271</td>\n",
       "      <td>21.695110</td>\n",
       "      <td>25.611641</td>\n",
       "      <td>20.807646</td>\n",
       "      <td>25.231821</td>\n",
       "    </tr>\n",
       "    <tr>\n",
       "      <th>10</th>\n",
       "      <td>120.184067</td>\n",
       "      <td>121.187996</td>\n",
       "      <td>154.435303</td>\n",
       "      <td>126.083687</td>\n",
       "      <td>25.438292</td>\n",
       "      <td>22.547882</td>\n",
       "      <td>21.753511</td>\n",
       "      <td>20.141253</td>\n",
       "    </tr>\n",
       "    <tr>\n",
       "      <th>11</th>\n",
       "      <td>98.570930</td>\n",
       "      <td>99.522560</td>\n",
       "      <td>85.412285</td>\n",
       "      <td>83.816650</td>\n",
       "      <td>22.273407</td>\n",
       "      <td>22.803555</td>\n",
       "      <td>19.934740</td>\n",
       "      <td>21.982569</td>\n",
       "    </tr>\n",
       "    <tr>\n",
       "      <th>12</th>\n",
       "      <td>88.807030</td>\n",
       "      <td>78.182533</td>\n",
       "      <td>74.012695</td>\n",
       "      <td>75.701050</td>\n",
       "      <td>21.095919</td>\n",
       "      <td>20.907026</td>\n",
       "      <td>20.706125</td>\n",
       "      <td>22.190487</td>\n",
       "    </tr>\n",
       "    <tr>\n",
       "      <th>13</th>\n",
       "      <td>81.749825</td>\n",
       "      <td>80.726364</td>\n",
       "      <td>74.919136</td>\n",
       "      <td>78.682335</td>\n",
       "      <td>21.319895</td>\n",
       "      <td>22.140997</td>\n",
       "      <td>22.048119</td>\n",
       "      <td>24.766094</td>\n",
       "    </tr>\n",
       "  </tbody>\n",
       "</table>\n",
       "</div>"
      ],
      "text/plain": [
       "           HRg         HRr  HR_RRg__HR  HR_RRr__HR  HR_RRg__RR  HR_RRr__RR  \\\n",
       "0    96.336723   96.608612  100.684937   91.313873   25.921896   24.963932   \n",
       "1    61.106365   60.577675   63.917419   77.693161   19.806232   22.938900   \n",
       "2    74.773361   63.781818   74.614304   80.838310   21.277245   28.016802   \n",
       "3    69.839767   74.771225   81.606667   68.949738   21.181307   23.664530   \n",
       "4    73.365242   79.375847   76.005867   67.936562   20.758062   23.895517   \n",
       "5    83.664459   79.465599   85.694916   77.182121   21.698246   25.170258   \n",
       "6    62.742535   57.599476   51.538155   76.924507   16.354155   21.558449   \n",
       "7    73.745934   66.579956   78.742897   73.162376   21.641808   25.350195   \n",
       "8   103.035149   98.693710   92.351860   86.441864   23.209007   26.362648   \n",
       "9    76.909554   77.458908   81.583443   76.312271   21.695110   25.611641   \n",
       "10  120.184067  121.187996  154.435303  126.083687   25.438292   22.547882   \n",
       "11   98.570930   99.522560   85.412285   83.816650   22.273407   22.803555   \n",
       "12   88.807030   78.182533   74.012695   75.701050   21.095919   20.907026   \n",
       "13   81.749825   80.726364   74.919136   78.682335   21.319895   22.140997   \n",
       "\n",
       "          RRg        RRr  \n",
       "0   34.506329  26.634035  \n",
       "1   20.959431  25.015287  \n",
       "2   19.853979  20.950340  \n",
       "3   20.430311  19.148842  \n",
       "4   20.583622  20.351530  \n",
       "5   20.698967  25.100145  \n",
       "6   23.178926  22.651264  \n",
       "7   20.000395  24.353687  \n",
       "8   20.588232  25.438570  \n",
       "9   20.807646  25.231821  \n",
       "10  21.753511  20.141253  \n",
       "11  19.934740  21.982569  \n",
       "12  20.706125  22.190487  \n",
       "13  22.048119  24.766094  "
      ]
     },
     "execution_count": 5,
     "metadata": {},
     "output_type": "execute_result"
    }
   ],
   "source": [
    "perfdf"
   ]
  },
  {
   "cell_type": "code",
   "execution_count": 6,
   "metadata": {
    "collapsed": false
   },
   "outputs": [
    {
     "name": "stdout",
     "output_type": "stream",
     "text": [
      "HR grey          mse=33.371     rmse=5.777 \n",
      "HR red           mse=99.655     rmse=9.983 \n",
      "RR grey          mse=117.303    rmse=10.831\n",
      "RR red           mse=93.921     rmse=9.691 \n",
      "HR/RR (HR) grey  mse=199.695    rmse=14.131\n",
      "HR/RR (HR) red   mse=130.016    rmse=11.402\n",
      "HR/RR (RR) grey  mse=96.096     rmse=9.803 \n",
      "HR/RR (RR) red   mse=86.874     rmse=9.321 \n"
     ]
    }
   ],
   "source": [
    "actual_hr = HR_actual\n",
    "actual_rr = RR_actual\n",
    "\n",
    "def compute_MSE(v1, v2):\n",
    "    return np.mean((np.array(v1) - np.array(v2))**2)\n",
    "\n",
    "def rmse(v1, v2):\n",
    "    return np.sqrt(compute_MSE(v1,v2))\n",
    "\n",
    "print(\"HR grey          mse={:<10.3f} rmse={:<6.3f}\".format(compute_MSE(actual_hr, HRg),rmse(actual_hr, HRg)))\n",
    "print(\"HR red           mse={:<10.3f} rmse={:<6.3f}\".format(compute_MSE(actual_hr, HRr),rmse(actual_hr, HRr)))\n",
    "print(\"RR grey          mse={:<10.3f} rmse={:<6.3f}\".format(compute_MSE(actual_rr, RRg),rmse(actual_rr, RRg)))\n",
    "print(\"RR red           mse={:<10.3f} rmse={:<6.3f}\".format(compute_MSE(actual_rr, RRr),rmse(actual_rr, RRr)))\n",
    "print(\"HR/RR (HR) grey  mse={:<10.3f} rmse={:<6.3f}\".format(compute_MSE(actual_hr, HR_RRg__HR),rmse(actual_hr, HR_RRg__HR)))\n",
    "print(\"HR/RR (HR) red   mse={:<10.3f} rmse={:<6.3f}\".format(compute_MSE(actual_hr, HR_RRr__HR),rmse(actual_hr, HR_RRr__HR)))\n",
    "print(\"HR/RR (RR) grey  mse={:<10.3f} rmse={:<6.3f}\".format(compute_MSE(actual_rr, HR_RRg__RR),rmse(actual_rr, HR_RRg__RR)))\n",
    "print(\"HR/RR (RR) red   mse={:<10.3f} rmse={:<6.3f}\".format(compute_MSE(actual_rr, HR_RRr__RR),rmse(actual_rr, HR_RRr__RR)))\n"
   ]
  },
  {
   "cell_type": "markdown",
   "metadata": {},
   "source": [
    "Defining some plotting related functions"
   ]
  },
  {
   "cell_type": "code",
   "execution_count": 7,
   "metadata": {
    "collapsed": true
   },
   "outputs": [],
   "source": [
    "def add_subplot_axes(ax,rect):\n",
    "    \"\"\"\n",
    "    add subsubplot\n",
    "    \n",
    "    *=============================*\n",
    "    |      *------*     __        |\n",
    "    |      |subsub|    |  |       |\n",
    "    |   _  |plot  |    |  |__     |\n",
    "    |__|  |*------*  __|     |____|\n",
    "    |     |_________|        |    |\n",
    "    *==============================*\n",
    "    \"\"\"\n",
    "    fig = plt.gcf()\n",
    "    box = ax.get_position()\n",
    "    width = box.width\n",
    "    height = box.height\n",
    "    inax_position  = ax.transAxes.transform(rect[0:2])\n",
    "    transFigure = fig.transFigure.inverted()\n",
    "    infig_position = transFigure.transform(inax_position)    \n",
    "    x = infig_position[0]\n",
    "    y = infig_position[1]\n",
    "    width *= rect[2]\n",
    "    height *= rect[3]  # <= Typo was here\n",
    "    subax = fig.add_axes([x,y,width,height])\n",
    "    x_labelsize = subax.get_xticklabels()[0].get_size()\n",
    "    y_labelsize = subax.get_yticklabels()[0].get_size()\n",
    "    x_labelsize *= rect[2]**0.5\n",
    "    y_labelsize *= rect[3]**0.5\n",
    "    subax.xaxis.set_tick_params(labelsize=x_labelsize)\n",
    "    subax.yaxis.set_tick_params(labelsize=y_labelsize)\n",
    "    return subax\n",
    "\n",
    "def bland_altman(actual, predictions):\n",
    "    actual, predictions = map(np.log2, map(np.array, [actual,predictions]))\n",
    "    diff = actual - predictions\n",
    "    avg  = (actual + predictions)/2\n",
    "    \n",
    "    return avg, diff"
   ]
  },
  {
   "cell_type": "markdown",
   "metadata": {},
   "source": [
    "Draw HR performance plot"
   ]
  },
  {
   "cell_type": "code",
   "execution_count": 8,
   "metadata": {
    "collapsed": false
   },
   "outputs": [
    {
     "data": {
      "image/png": "[encoded data removed]",
      "text/plain": [
       "<Figure size 432x288 with 2 Axes>"
      ]
     },
     "metadata": {},
     "output_type": "display_data"
    }
   ],
   "source": [
    "slope, intercept, r, p, err = linregress(HR_actual, HRg)\n",
    "def fit(X):\n",
    "    return slope*X + intercept\n",
    "\n",
    "Xs = np.arange(min(HR_actual), max(HR_actual)+1)\n",
    "layout = (2,4)\n",
    "fig = plt.figure()\n",
    "[ax, ax2] = [plt.subplot2grid(layout, (0,0), colspan=2, rowspan=2),\n",
    "             plt.subplot2grid(layout, (0,2), rowspan=2, colspan=2)]\n",
    "\n",
    "letter_subplots([ax, ax2], xoffset=[-0.3, -0.25], yoffset=[1., 1.])\n",
    "\n",
    "ax2.scatter(HR_actual, HRg)\n",
    "ax2.plot(Xs, fit(Xs), label=rf\"$R={round(r,3)}$\", linestyle='--', linewidth=0.8)\n",
    "ax2.set_ylabel(\"$HR_{\\mathrm{pred}}$\", fontsize=14)\n",
    "ax2.set_xlabel(\"$HR_{\\mathrm{true}}$\", fontsize=14)\n",
    "ax2.legend(frameon=True)\n",
    "avg, diff = bland_altman(HR_actual, HRg)\n",
    "std_diff196 = np.std(diff)*1.96\n",
    "plus = np.mean(diff) + std_diff196\n",
    "minus = np.mean(diff) - std_diff196\n",
    "\n",
    "kwds = {'linestyle':'--','linewidth':0.9}\n",
    "ax.scatter(avg, diff)\n",
    "ax.text(5.8, np.mean(diff) + 0.01, rf\"$\\mu= {round(np.mean(diff),3)}$\", color=\"C0\")\n",
    "ax.text(6.2,0.2,rf\"$\\mu + 1.96\\sigma={round(plus,3)}$\", color=\"C1\")\n",
    "ax.text(6.1,-0.2,rf\"$\\mu - 1.96\\sigma={round(minus,3)}$\", color=\"C1\")\n",
    "ax.set_xlabel(r\"$\\frac{\\log_{2}(HR_{\\mathrm{true}}) + \\log_{2}(HR_{\\mathrm{pred}})}{2}$\", fontsize=14)\n",
    "ax.set_ylabel(r\"$\\log_{2}(HR_{\\mathrm{true}}) - \\log_{2}(HR_\\mathrm{pred})$\", fontsize=12)\n",
    "ax.axhline(np.mean(diff), **kwds)\n",
    "ax.axhline(plus, **kwds, color=\"C1\")\n",
    "ax.axhline(minus, **kwds, color=\"C1\")\n",
    "plt.tight_layout(w_pad=0.4)\n",
    "plt.savefig(\"figs/HRperformance_grey_mse.pdf\")\n",
    "plt.show()"
   ]
  },
  {
   "cell_type": "code",
   "execution_count": 9,
   "metadata": {
    "collapsed": false
   },
   "outputs": [
    {
     "data": {
      "image/png": "[encoded data removed]",
      "text/plain": [
       "<Figure size 432x288 with 2 Axes>"
      ]
     },
     "metadata": {},
     "output_type": "display_data"
    }
   ],
   "source": [
    "slope, intercept, r, p, err = linregress(HR_actual, HRr)\n",
    "def fit(X):\n",
    "    return slope*X + intercept\n",
    "\n",
    "Xs = np.arange(min(HR_actual), max(HR_actual)+1)\n",
    "layout = (2,4)\n",
    "fig = plt.figure()\n",
    "[ax, ax2] = [plt.subplot2grid(layout, (0,0), colspan=2, rowspan=2),\n",
    "             plt.subplot2grid(layout, (0,2), rowspan=2, colspan=2)]\n",
    "\n",
    "letter_subplots([ax, ax2], xoffset=[-0.3, -0.25], yoffset=[1., 1.])\n",
    "\n",
    "ax2.scatter(HR_actual, HRr)\n",
    "ax2.plot(Xs, fit(Xs), label=rf\"$R={round(r,3)}$\", linestyle='--', linewidth=0.8)\n",
    "ax2.set_ylabel(\"$HR_{\\mathrm{pred}}$\", fontsize=14)\n",
    "ax2.set_xlabel(\"$HR_{\\mathrm{true}}$\", fontsize=14)\n",
    "ax2.legend(frameon=True)\n",
    "avg, diff = bland_altman(HR_actual, HRr)\n",
    "std_diff196 = np.std(diff)*1.96\n",
    "plus = np.mean(diff) + std_diff196\n",
    "minus = np.mean(diff) - std_diff196\n",
    "\n",
    "kwds = {'linestyle':'--','linewidth':0.9}\n",
    "ax.scatter(avg, diff)\n",
    "ax.text(5.8, np.mean(diff) + 0.01, rf\"$\\mu= {round(np.mean(diff),3)}$\", color=\"C0\")\n",
    "ax.text(6.2,0.35,rf\"$\\mu + 1.96\\sigma={round(plus,3)}$\", color=\"C1\")\n",
    "ax.text(6.1,-0.3,rf\"$\\mu - 1.96\\sigma={round(minus,3)}$\", color=\"C1\")\n",
    "ax.set_xlabel(r\"$\\frac{\\log_{2}(HR_{\\mathrm{true}}) + \\log_{2}(HR_{\\mathrm{pred}})}{2}$\", fontsize=14)\n",
    "ax.set_ylabel(r\"$\\log_{2}(HR_{\\mathrm{true}}) - \\log_{2}(HR_\\mathrm{pred})$\", fontsize=12)\n",
    "ax.axhline(np.mean(diff), **kwds)\n",
    "ax.axhline(plus, **kwds, color=\"C1\")\n",
    "ax.axhline(minus, **kwds, color=\"C1\")\n",
    "plt.tight_layout(w_pad=0.4)\n",
    "plt.savefig(\"figs/HRperformance_red_mse.pdf\")\n",
    "plt.show()"
   ]
  },
  {
   "cell_type": "code",
   "execution_count": 10,
   "metadata": {
    "collapsed": false
   },
   "outputs": [
    {
     "data": {
      "image/png": "[encoded data removed]",
      "text/plain": [
       "<Figure size 345.6x345.6 with 2 Axes>"
      ]
     },
     "metadata": {},
     "output_type": "display_data"
    },
    {
     "name": "stdout",
     "output_type": "stream",
     "text": [
      "Correlation in preds RR gray: -0.16102944019701734\n",
      "Correlation in preds RR red:0.02533939710370303\n"
     ]
    }
   ],
   "source": [
    "slope, intercept, r, p, err = linregress(RR_actual, RRg)\n",
    "def fit(X):\n",
    "    return slope*X + intercept\n",
    "\n",
    "slope_r, intercept_r, rr, pr, errr = linregress(RR_actual, RRr)\n",
    "def fitred(X):\n",
    "    return slope_r*X + intercept_r\n",
    "    \n",
    "\n",
    "Xs = np.arange(min(RR_actual), max(RR_actual)+1)\n",
    "layout=(2,4)\n",
    "#fig = plt.figure(figsize=(6.4*0.75, 4.8))\n",
    "fig, [ax, ax2] = plt.subplots(2,1,figsize=(6.4*0.75, 4.8), sharex=True)   #= [plt.subplot2grid(layout, (0,0), colspan=2, rowspan=2),\n",
    "                #  plt.subplot2grid(layout, (0,2), rowspan=2, colspan=2)]\n",
    "                       #plt.subplot2grid(layout, (2,2), rowspan=2, colspan=2)]\n",
    "kwds = {'linestyle':'--','linewidth':0.9}\n",
    "\n",
    "letter_subplots([ax, ax2], xoffset=[-0.05, -0.05], yoffset=[1.01, 1.05])\n",
    "\n",
    "avg, diff = bland_altman(RR_actual, RRg)\n",
    "std_diff196 = np.std(diff)*1.96\n",
    "plus = np.mean(diff) + std_diff196\n",
    "minus = np.mean(diff) - std_diff196\n",
    "\n",
    "ax.scatter(avg, diff)\n",
    "# mu{roun\n",
    "ax.text(4.8, np.mean(diff) + 0.05, \"$\\mu = {}$\".format(round(np.mean(diff),3)), color=\"C0\")\n",
    "# mu +\n",
    "ax.text(3.9,0.89,rf\"$\\mu + 1.96\\sigma={round(plus,3)}$\", color=\"C1\")\n",
    "# mu -\n",
    "ax.text(4.61,-1.02,rf\"$\\mu - 1.96\\sigma={round(minus,3)}$\", color=\"C1\")\n",
    "#ax.text(0, r\"$\\log_{2}(RR_{\\mathrm{true}}) - \\log_{2}(RR_\\mathrm{pred})$\", fontsize=12)\n",
    "ax.axhline(np.mean(diff), **kwds)\n",
    "ax.axhline(plus, **kwds, color=\"C1\")\n",
    "ax.axhline(minus, **kwds, color=\"C1\")\n",
    "ax.set_title(\"Grayscale\")\n",
    "\n",
    "avg, diff = bland_altman(RR_actual, RRr)\n",
    "std_diff196 = np.std(diff)*1.96\n",
    "plus = np.mean(diff) + std_diff196\n",
    "minus = np.mean(diff) - std_diff196\n",
    "ax2.set_yticks([-1,0,1])\n",
    "ax2.set_yticklabels([-1,0,1])\n",
    "ax2.scatter(avg, diff)\n",
    "# mu\n",
    "ax2.text(3.9, np.mean(diff) + 0.05, rf\"$\\mu = {round(np.mean(diff),3)}$\", color=\"C0\")\n",
    "# mu +\n",
    "ax2.text(3.9,0.8,rf\"$\\mu + 1.96\\sigma={round(plus,3)}$\", color=\"C1\")\n",
    "# mu -\n",
    "ax2.text(3.9,-1.09,rf\"$\\mu - 1.96\\sigma={round(minus,3)}$\", color=\"C1\")\n",
    "ax2.axhline(np.mean(diff), **kwds)\n",
    "ax2.axhline(plus, **kwds, color=\"C1\")\n",
    "ax2.axhline(minus, **kwds, color=\"C1\")\n",
    "ax2.set_title(\"Red Channel\")\n",
    "\n",
    "fig.text(0.01, 0.52, r'$\\log_{2}(RR_{\\mathrm{true}}) - \\log_{2}(RR_{\\mathrm{pred}})$', va='center', rotation='vertical')\n",
    "fig.text(0.3 ,0.04, r\"$[\\log_{2}(RR_{\\mathrm{true}}) + \\log_{2}(RR_{\\mathrm{pred}})]/2$\", va='center')\n",
    "#plt.tight_layout(w_pad=1.5)\n",
    "#plt.subplots_adjust(top=1)#left=0, bottom=0, right=1, top=1, wspace=0, hspace=0)\n",
    "plt.savefig(\"figs/RRperformance_mse.pdf\")\n",
    "plt.show()\n",
    "print(rf'Correlation in preds RR gray: {r}')\n",
    "print(rf\"Correlation in preds RR red:{rr}\")"
   ]
  },
  {
   "cell_type": "code",
   "execution_count": 11,
   "metadata": {
    "collapsed": true
   },
   "outputs": [],
   "source": [
    "#HR_RRg__HR, HR_RRg__RR, HR_RRr__HR, HR_RRr__RR\n",
    "simul_df_hr = pd.DataFrame({'actual_hr':HR_actual, 'grey':HR_RRg__HR, 'red':HR_RRr__HR})\n",
    "simul_df_rr = pd.DataFrame({'actual_rr':RR_actual, 'grey':HR_RRg__RR, 'red':HR_RRr__RR})"
   ]
  },
  {
   "cell_type": "code",
   "execution_count": 12,
   "metadata": {
    "collapsed": false
   },
   "outputs": [
    {
     "data": {
      "text/html": [
       "<div>\n",
       "<style scoped>\n",
       "    .dataframe tbody tr th:only-of-type {\n",
       "        vertical-align: middle;\n",
       "    }\n",
       "\n",
       "    .dataframe tbody tr th {\n",
       "        vertical-align: top;\n",
       "    }\n",
       "\n",
       "    .dataframe thead th {\n",
       "        text-align: right;\n",
       "    }\n",
       "</style>\n",
       "<table border=\"1\" class=\"dataframe\">\n",
       "  <thead>\n",
       "    <tr style=\"text-align: right;\">\n",
       "      <th></th>\n",
       "      <th>actual_hr</th>\n",
       "      <th>grey</th>\n",
       "      <th>red</th>\n",
       "    </tr>\n",
       "  </thead>\n",
       "  <tbody>\n",
       "    <tr>\n",
       "      <th>0</th>\n",
       "      <td>100.0</td>\n",
       "      <td>100.684937</td>\n",
       "      <td>91.313873</td>\n",
       "    </tr>\n",
       "    <tr>\n",
       "      <th>1</th>\n",
       "      <td>54.0</td>\n",
       "      <td>63.917419</td>\n",
       "      <td>77.693161</td>\n",
       "    </tr>\n",
       "    <tr>\n",
       "      <th>2</th>\n",
       "      <td>84.0</td>\n",
       "      <td>74.614304</td>\n",
       "      <td>80.838310</td>\n",
       "    </tr>\n",
       "    <tr>\n",
       "      <th>3</th>\n",
       "      <td>58.0</td>\n",
       "      <td>81.606667</td>\n",
       "      <td>68.949738</td>\n",
       "    </tr>\n",
       "    <tr>\n",
       "      <th>4</th>\n",
       "      <td>72.0</td>\n",
       "      <td>76.005867</td>\n",
       "      <td>67.936562</td>\n",
       "    </tr>\n",
       "    <tr>\n",
       "      <th>5</th>\n",
       "      <td>87.0</td>\n",
       "      <td>85.694916</td>\n",
       "      <td>77.182121</td>\n",
       "    </tr>\n",
       "    <tr>\n",
       "      <th>6</th>\n",
       "      <td>66.0</td>\n",
       "      <td>51.538155</td>\n",
       "      <td>76.924507</td>\n",
       "    </tr>\n",
       "    <tr>\n",
       "      <th>7</th>\n",
       "      <td>82.0</td>\n",
       "      <td>78.742897</td>\n",
       "      <td>73.162376</td>\n",
       "    </tr>\n",
       "    <tr>\n",
       "      <th>8</th>\n",
       "      <td>102.0</td>\n",
       "      <td>92.351860</td>\n",
       "      <td>86.441864</td>\n",
       "    </tr>\n",
       "    <tr>\n",
       "      <th>9</th>\n",
       "      <td>82.0</td>\n",
       "      <td>81.583443</td>\n",
       "      <td>76.312271</td>\n",
       "    </tr>\n",
       "    <tr>\n",
       "      <th>10</th>\n",
       "      <td>120.0</td>\n",
       "      <td>154.435303</td>\n",
       "      <td>126.083687</td>\n",
       "    </tr>\n",
       "    <tr>\n",
       "      <th>11</th>\n",
       "      <td>96.0</td>\n",
       "      <td>85.412285</td>\n",
       "      <td>83.816650</td>\n",
       "    </tr>\n",
       "    <tr>\n",
       "      <th>12</th>\n",
       "      <td>89.0</td>\n",
       "      <td>74.012695</td>\n",
       "      <td>75.701050</td>\n",
       "    </tr>\n",
       "    <tr>\n",
       "      <th>13</th>\n",
       "      <td>89.0</td>\n",
       "      <td>74.919136</td>\n",
       "      <td>78.682335</td>\n",
       "    </tr>\n",
       "  </tbody>\n",
       "</table>\n",
       "</div>"
      ],
      "text/plain": [
       "    actual_hr        grey         red\n",
       "0       100.0  100.684937   91.313873\n",
       "1        54.0   63.917419   77.693161\n",
       "2        84.0   74.614304   80.838310\n",
       "3        58.0   81.606667   68.949738\n",
       "4        72.0   76.005867   67.936562\n",
       "5        87.0   85.694916   77.182121\n",
       "6        66.0   51.538155   76.924507\n",
       "7        82.0   78.742897   73.162376\n",
       "8       102.0   92.351860   86.441864\n",
       "9        82.0   81.583443   76.312271\n",
       "10      120.0  154.435303  126.083687\n",
       "11       96.0   85.412285   83.816650\n",
       "12       89.0   74.012695   75.701050\n",
       "13       89.0   74.919136   78.682335"
      ]
     },
     "execution_count": 12,
     "metadata": {},
     "output_type": "execute_result"
    }
   ],
   "source": [
    "simul_df_hr"
   ]
  },
  {
   "cell_type": "code",
   "execution_count": 13,
   "metadata": {
    "collapsed": true
   },
   "outputs": [],
   "source": [
    "simul_df_rr['SE_red'] = (simul_df_rr['actual_rr'] - simul_df_rr['red'])**2\n",
    "simul_df_rr['SE_grey'] = (simul_df_rr['actual_rr'] - simul_df_rr['grey'])**2"
   ]
  },
  {
   "cell_type": "code",
   "execution_count": 14,
   "metadata": {
    "collapsed": false
   },
   "outputs": [
    {
     "name": "stdout",
     "output_type": "stream",
     "text": [
      "86.87382961283323\n",
      "96.09550021109708\n"
     ]
    }
   ],
   "source": [
    "print(simul_df_rr['SE_red'].mean())\n",
    "print(simul_df_rr['SE_grey'].mean())"
   ]
  },
  {
   "cell_type": "code",
   "execution_count": 15,
   "metadata": {
    "collapsed": true
   },
   "outputs": [],
   "source": [
    "simul_df_hr['SE_red'] = (simul_df_hr['actual_hr'] - simul_df_hr['red'])**2\n",
    "simul_df_hr['SE_grey'] = (simul_df_hr['actual_hr'] - simul_df_hr['grey'])**2"
   ]
  },
  {
   "cell_type": "code",
   "execution_count": 16,
   "metadata": {
    "collapsed": false
   },
   "outputs": [
    {
     "name": "stdout",
     "output_type": "stream",
     "text": [
      "130.01613068823016\n",
      "199.69529996651025\n"
     ]
    }
   ],
   "source": [
    "print(simul_df_hr['SE_red'].mean())\n",
    "print(simul_df_hr['SE_grey'].mean())"
   ]
  },
  {
   "cell_type": "code",
   "execution_count": 28,
   "metadata": {
    "collapsed": false,
    "scrolled": true
   },
   "outputs": [
    {
     "data": {
      "image/png": "[encoded data removed]",
      "text/plain": [
       "<Figure size 432x345.6 with 2 Axes>"
      ]
     },
     "metadata": {},
     "output_type": "display_data"
    }
   ],
   "source": [
    "fig, [ax1, ax2] = plt.subplots(2,figsize=(6.4*0.75*1.25, 4.8))\n",
    "letter_subplots([ax1,ax2],xoffset=[-0.038,-0.038], yoffset=[1.1,1.1])\n",
    "\n",
    "avg, diff = bland_altman(RR_actual, simul_df_rr['red'].values.tolist())\n",
    "mean_RR = np.mean(diff)\n",
    "plus = mean_RR + np.std(diff)*1.96\n",
    "minus = mean_RR - np.std(diff)*1.96\n",
    "\n",
    "#ax1.set_title(\"Respiratory Rate\")\n",
    "ax1.set_xlabel(r\"$[\\log_{2}(RR_{\\mathrm{true}}) + \\log_{2}(RR_{\\mathrm{pred}})]/2$\")\n",
    "ax1.scatter(avg, diff)\n",
    "ax1.axhline(plus, **kwds,color=\"C1\")\n",
    "ax1.axhline(mean_RR, **kwds)\n",
    "ax1.axhline(minus, **kwds, color=\"C1\")\n",
    "# plus\n",
    "ax1.text(4.2,0.75, rf\"$\\mu + 1.96\\sigma={round(plus,3)}$\", color=\"C1\")\n",
    "# minus\n",
    "ax1.text(4.2,-1.1, rf\"$\\mu - 1.96\\sigma={round(minus,3)}$\", color=\"C1\")\n",
    "# mu\n",
    "ax1.text(4.8, mean_RR + 0.04, rf\"$\\mu={round(mean_RR, 3)}$\",color=\"C0\")\n",
    "\n",
    "avg2, diff2 = bland_altman(HR_actual, simul_df_hr['red'].values.tolist())\n",
    "mean_HR = np.mean(diff2)\n",
    "plus2 = mean_HR + np.std(diff2)*1.96\n",
    "minus2 = mean_HR - np.std(diff2)*1.96\n",
    "\n",
    "#ax2.set_title(\"Heart Rate\")\n",
    "ax2.scatter(avg2, diff2)\n",
    "ax2.axhline(plus2, **kwds,color=\"C1\")\n",
    "ax2.axhline(mean_HR, **kwds)\n",
    "ax2.axhline(minus2, **kwds, color=\"C1\")\n",
    "# plus\n",
    "ax2.text(5.95,plus2 - 0.1, rf\"$\\mu + 1.96\\sigma={round(plus2,3)}$\", color=\"C1\")\n",
    "# minus\n",
    "ax2.text(5.95,minus2 + 0.05, rf\"$\\mu - 1.96\\sigma={round(minus2,3)}$\", color=\"C1\")\n",
    "# mu\n",
    "ax2.text(6.7, mean_HR + 0.04, rf\"$\\mu={round(mean_HR, 3)}$\",color=\"C0\")\n",
    "\n",
    "ax2.set_xlabel(r\"$[\\log_{2}(HR_{\\mathrm{true}}) + \\log_{2}(HR_{\\mathrm{pred}})]/2$\")\n",
    "ax1.set_ylabel(r\"$\\log_{2}(RR_\\mathrm{true}) - \\log_{2}(RR_\\mathrm{pred})$\")\n",
    "ax2.set_ylabel(r\"$\\log_{2}(HR_\\mathrm{true}) - \\log_{2}(HR_\\mathrm{pred})$\")\n",
    "\n",
    "#plt.subplots_adjust(wspace=0.5)\n",
    "ax1.set_title(\"Red channel HR/RR predictor performance\")\n",
    "plt.tight_layout()\n",
    "plt.savefig(\"figs/HR_RR_performance_mse.pdf\")\n",
    "plt.show()"
   ]
  },
  {
   "cell_type": "code",
   "execution_count": null,
   "metadata": {
    "collapsed": true
   },
   "outputs": [],
   "source": []
  }
 ],
 "metadata": {
  "kernelspec": {
   "display_name": "Python 3",
   "language": "python",
   "name": "python3"
  },
  "language_info": {
   "codemirror_mode": {
    "name": "ipython",
    "version": 3
   },
   "file_extension": ".py",
   "mimetype": "text/x-python",
   "name": "python",
   "nbconvert_exporter": "python",
   "pygments_lexer": "ipython3",
   "version": "3.6.6"
  }
 },
 "nbformat": 4,
 "nbformat_minor": 2
}
