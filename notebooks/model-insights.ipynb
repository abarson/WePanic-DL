{
 "cells": [
  {
   "cell_type": "markdown",
   "metadata": {},
   "source": [
    "## This notebook is meant to further investigate model performance"
   ]
  },
  {
   "cell_type": "code",
   "execution_count": 269,
   "metadata": {
    "collapsed": true
   },
   "outputs": [],
   "source": [
    "import pandas as pd\n",
    "import matplotlib.pyplot as plt\n",
    "import numpy as np\n",
    "import os\n",
    "from scipy.stats import linregress\n",
    "from bltools import letter_subplots\n",
    "from scipy.spatial import distance"
   ]
  },
  {
   "cell_type": "markdown",
   "metadata": {},
   "source": [
    "load up the performances of each model (excluding HR red because it clearly was worse)"
   ]
  },
  {
   "cell_type": "code",
   "execution_count": 235,
   "metadata": {
    "collapsed": true
   },
   "outputs": [],
   "source": [
    "topHRperf = \"../TOPMODS/hr_greyscale/QBC.csv\"\n",
    "topRRperf_grey = \"../TOPMODS/rr_greyscale/QBC.csv\"\n",
    "topRRperf_red = \"../TOPMODS/rr_redscale/QBC.csv\"\n",
    "topHR_RRperf_grey = \"../TOPMODS/hr_rr_greyscale/QBC.csv\"\n",
    "topHR_RRperf_red  = \"../TOPMODS/hr_rr_redscale/QBC.csv\"\n",
    "\n",
    "perfs = [topHRperf, topRRperf_red, topRRperf_grey, topHR_RRperf_grey, topHR_RRperf_red]\n",
    "perfnames =  'topHRperf,topRRperf_red,topRRperf_grey,topHR_RRperf_grey,topHR_RRperf_red'.split(',')"
   ]
  },
  {
   "cell_type": "code",
   "execution_count": 236,
   "metadata": {},
   "outputs": [],
   "source": [
    "experiment2perfdf = dict(zip(perfnames,[pd.read_csv(perf) for perf in perfs]))"
   ]
  },
  {
   "cell_type": "markdown",
   "metadata": {},
   "source": [
    "Unpack some useful lists of values"
   ]
  },
  {
   "cell_type": "code",
   "execution_count": 237,
   "metadata": {},
   "outputs": [],
   "source": [
    "HRg        = experiment2perfdf['topHRperf'].QBC_hr.values.tolist()\n",
    "HR_RRg__HR = experiment2perfdf['topHR_RRperf_grey'].QBC_hr.values.tolist()\n",
    "HR_RRr__HR = experiment2perfdf['topHR_RRperf_red'].QBC_hr.values.tolist()\n",
    "HR_RRg__RR = experiment2perfdf['topHR_RRperf_grey'].QBC_rr.values.tolist()\n",
    "HR_RRr__RR = experiment2perfdf['topHR_RRperf_red'].QBC_rr.values.tolist()\n",
    "RRg        = experiment2perfdf['topRRperf_grey'].QBC_rr.values.tolist()\n",
    "RRr        = experiment2perfdf['topRRperf_red'].QBC_rr.values.tolist()\n",
    "\n",
    "HR_actual = experiment2perfdf['topHRperf'].actual_hr.values.tolist()\n",
    "RR_actual = experiment2perfdf['topRRperf_grey'].actual_rr.values.tolist()\n",
    "cols = 'HRg,HR_RRg__HR,HR_RRr__HR,HR_RRg__RR,HR_RRr__RR,RRg,RRr'.split(',')\n",
    "\n",
    "\n",
    "perfdf = pd.DataFrame(dict(zip(cols,[HRg,\n",
    "                                     HR_RRg__HR,HR_RRr__HR,\n",
    "                                     HR_RRg__RR,HR_RRr__RR,\n",
    "                                     RRg,RRr])))"
   ]
  },
  {
   "cell_type": "code",
   "execution_count": 238,
   "metadata": {},
   "outputs": [
    {
     "data": {
      "text/html": [
       "<div>\n",
       "<style scoped>\n",
       "    .dataframe tbody tr th:only-of-type {\n",
       "        vertical-align: middle;\n",
       "    }\n",
       "\n",
       "    .dataframe tbody tr th {\n",
       "        vertical-align: top;\n",
       "    }\n",
       "\n",
       "    .dataframe thead th {\n",
       "        text-align: right;\n",
       "    }\n",
       "</style>\n",
       "<table border=\"1\" class=\"dataframe\">\n",
       "  <thead>\n",
       "    <tr style=\"text-align: right;\">\n",
       "      <th></th>\n",
       "      <th>HR_RRg__HR</th>\n",
       "      <th>HR_RRg__RR</th>\n",
       "      <th>HR_RRr__HR</th>\n",
       "      <th>HR_RRr__RR</th>\n",
       "      <th>HRg</th>\n",
       "      <th>RRg</th>\n",
       "      <th>RRr</th>\n",
       "    </tr>\n",
       "  </thead>\n",
       "  <tbody>\n",
       "    <tr>\n",
       "      <th>0</th>\n",
       "      <td>87.254967</td>\n",
       "      <td>22.565655</td>\n",
       "      <td>88.569260</td>\n",
       "      <td>14.856959</td>\n",
       "      <td>96.294739</td>\n",
       "      <td>18.978716</td>\n",
       "      <td>26.634035</td>\n",
       "    </tr>\n",
       "    <tr>\n",
       "      <th>1</th>\n",
       "      <td>64.157242</td>\n",
       "      <td>18.764334</td>\n",
       "      <td>69.311409</td>\n",
       "      <td>26.730856</td>\n",
       "      <td>60.941357</td>\n",
       "      <td>21.530914</td>\n",
       "      <td>25.015287</td>\n",
       "    </tr>\n",
       "    <tr>\n",
       "      <th>2</th>\n",
       "      <td>71.662086</td>\n",
       "      <td>24.256742</td>\n",
       "      <td>75.873703</td>\n",
       "      <td>17.126810</td>\n",
       "      <td>74.327477</td>\n",
       "      <td>24.615618</td>\n",
       "      <td>20.950340</td>\n",
       "    </tr>\n",
       "    <tr>\n",
       "      <th>3</th>\n",
       "      <td>75.887962</td>\n",
       "      <td>19.988165</td>\n",
       "      <td>66.083862</td>\n",
       "      <td>21.216692</td>\n",
       "      <td>70.026253</td>\n",
       "      <td>21.777353</td>\n",
       "      <td>19.148842</td>\n",
       "    </tr>\n",
       "    <tr>\n",
       "      <th>4</th>\n",
       "      <td>77.840187</td>\n",
       "      <td>21.208845</td>\n",
       "      <td>69.000862</td>\n",
       "      <td>22.378723</td>\n",
       "      <td>73.861900</td>\n",
       "      <td>21.361437</td>\n",
       "      <td>20.351530</td>\n",
       "    </tr>\n",
       "    <tr>\n",
       "      <th>5</th>\n",
       "      <td>82.445854</td>\n",
       "      <td>22.561756</td>\n",
       "      <td>78.195053</td>\n",
       "      <td>27.742348</td>\n",
       "      <td>82.999641</td>\n",
       "      <td>23.099003</td>\n",
       "      <td>25.100145</td>\n",
       "    </tr>\n",
       "    <tr>\n",
       "      <th>6</th>\n",
       "      <td>42.335030</td>\n",
       "      <td>14.199823</td>\n",
       "      <td>73.115723</td>\n",
       "      <td>21.644020</td>\n",
       "      <td>62.956249</td>\n",
       "      <td>24.920742</td>\n",
       "      <td>22.651264</td>\n",
       "    </tr>\n",
       "    <tr>\n",
       "      <th>7</th>\n",
       "      <td>75.430923</td>\n",
       "      <td>20.714577</td>\n",
       "      <td>76.341400</td>\n",
       "      <td>18.125044</td>\n",
       "      <td>74.757645</td>\n",
       "      <td>23.344629</td>\n",
       "      <td>24.353687</td>\n",
       "    </tr>\n",
       "    <tr>\n",
       "      <th>8</th>\n",
       "      <td>101.551949</td>\n",
       "      <td>25.344078</td>\n",
       "      <td>90.883896</td>\n",
       "      <td>27.947073</td>\n",
       "      <td>102.632843</td>\n",
       "      <td>23.200422</td>\n",
       "      <td>25.438570</td>\n",
       "    </tr>\n",
       "    <tr>\n",
       "      <th>9</th>\n",
       "      <td>75.795738</td>\n",
       "      <td>22.589287</td>\n",
       "      <td>81.038170</td>\n",
       "      <td>29.182095</td>\n",
       "      <td>77.463943</td>\n",
       "      <td>23.252754</td>\n",
       "      <td>25.231821</td>\n",
       "    </tr>\n",
       "    <tr>\n",
       "      <th>10</th>\n",
       "      <td>108.310448</td>\n",
       "      <td>33.378845</td>\n",
       "      <td>117.553505</td>\n",
       "      <td>27.492275</td>\n",
       "      <td>119.122169</td>\n",
       "      <td>22.205067</td>\n",
       "      <td>20.141253</td>\n",
       "    </tr>\n",
       "    <tr>\n",
       "      <th>11</th>\n",
       "      <td>96.577065</td>\n",
       "      <td>19.491358</td>\n",
       "      <td>89.610420</td>\n",
       "      <td>17.020027</td>\n",
       "      <td>99.029640</td>\n",
       "      <td>20.935530</td>\n",
       "      <td>21.982569</td>\n",
       "    </tr>\n",
       "    <tr>\n",
       "      <th>12</th>\n",
       "      <td>87.306801</td>\n",
       "      <td>20.340631</td>\n",
       "      <td>74.822510</td>\n",
       "      <td>16.442587</td>\n",
       "      <td>90.615479</td>\n",
       "      <td>18.094763</td>\n",
       "      <td>22.190487</td>\n",
       "    </tr>\n",
       "    <tr>\n",
       "      <th>13</th>\n",
       "      <td>82.069992</td>\n",
       "      <td>24.300627</td>\n",
       "      <td>78.335396</td>\n",
       "      <td>15.788222</td>\n",
       "      <td>82.138573</td>\n",
       "      <td>18.515358</td>\n",
       "      <td>24.766094</td>\n",
       "    </tr>\n",
       "  </tbody>\n",
       "</table>\n",
       "</div>"
      ],
      "text/plain": [
       "    HR_RRg__HR  HR_RRg__RR  HR_RRr__HR  HR_RRr__RR         HRg        RRg  \\\n",
       "0    87.254967   22.565655   88.569260   14.856959   96.294739  18.978716   \n",
       "1    64.157242   18.764334   69.311409   26.730856   60.941357  21.530914   \n",
       "2    71.662086   24.256742   75.873703   17.126810   74.327477  24.615618   \n",
       "3    75.887962   19.988165   66.083862   21.216692   70.026253  21.777353   \n",
       "4    77.840187   21.208845   69.000862   22.378723   73.861900  21.361437   \n",
       "5    82.445854   22.561756   78.195053   27.742348   82.999641  23.099003   \n",
       "6    42.335030   14.199823   73.115723   21.644020   62.956249  24.920742   \n",
       "7    75.430923   20.714577   76.341400   18.125044   74.757645  23.344629   \n",
       "8   101.551949   25.344078   90.883896   27.947073  102.632843  23.200422   \n",
       "9    75.795738   22.589287   81.038170   29.182095   77.463943  23.252754   \n",
       "10  108.310448   33.378845  117.553505   27.492275  119.122169  22.205067   \n",
       "11   96.577065   19.491358   89.610420   17.020027   99.029640  20.935530   \n",
       "12   87.306801   20.340631   74.822510   16.442587   90.615479  18.094763   \n",
       "13   82.069992   24.300627   78.335396   15.788222   82.138573  18.515358   \n",
       "\n",
       "          RRr  \n",
       "0   26.634035  \n",
       "1   25.015287  \n",
       "2   20.950340  \n",
       "3   19.148842  \n",
       "4   20.351530  \n",
       "5   25.100145  \n",
       "6   22.651264  \n",
       "7   24.353687  \n",
       "8   25.438570  \n",
       "9   25.231821  \n",
       "10  20.141253  \n",
       "11  21.982569  \n",
       "12  22.190487  \n",
       "13  24.766094  "
      ]
     },
     "execution_count": 238,
     "metadata": {},
     "output_type": "execute_result"
    }
   ],
   "source": [
    "perfdf"
   ]
  },
  {
   "cell_type": "markdown",
   "metadata": {},
   "source": [
    "Defining some plotting related functions"
   ]
  },
  {
   "cell_type": "code",
   "execution_count": 239,
   "metadata": {
    "collapsed": true
   },
   "outputs": [],
   "source": [
    "def add_subplot_axes(ax,rect):\n",
    "    \"\"\"\n",
    "    add subsubplot\n",
    "    \n",
    "    *=============================*\n",
    "    |      *------*     __        |\n",
    "    |      |subsub|    |  |       |\n",
    "    |   _  |plot  |    |  |__     |\n",
    "    |__|  |*------*  __|     |____|\n",
    "    |     |_________|        |    |\n",
    "    *==============================*\n",
    "    \"\"\"\n",
    "    fig = plt.gcf()\n",
    "    box = ax.get_position()\n",
    "    width = box.width\n",
    "    height = box.height\n",
    "    inax_position  = ax.transAxes.transform(rect[0:2])\n",
    "    transFigure = fig.transFigure.inverted()\n",
    "    infig_position = transFigure.transform(inax_position)    \n",
    "    x = infig_position[0]\n",
    "    y = infig_position[1]\n",
    "    width *= rect[2]\n",
    "    height *= rect[3]  # <= Typo was here\n",
    "    subax = fig.add_axes([x,y,width,height])\n",
    "    x_labelsize = subax.get_xticklabels()[0].get_size()\n",
    "    y_labelsize = subax.get_yticklabels()[0].get_size()\n",
    "    x_labelsize *= rect[2]**0.5\n",
    "    y_labelsize *= rect[3]**0.5\n",
    "    subax.xaxis.set_tick_params(labelsize=x_labelsize)\n",
    "    subax.yaxis.set_tick_params(labelsize=y_labelsize)\n",
    "    return subax\n",
    "\n",
    "def bland_altman(actual, predictions):\n",
    "    actual, predictions = map(np.log2, map(np.array, [actual,predictions]))\n",
    "    diff = actual - predictions\n",
    "    avg  = (actual + predictions)/2\n",
    "    \n",
    "    return avg, diff"
   ]
  },
  {
   "cell_type": "markdown",
   "metadata": {},
   "source": [
    "Draw HR performance plot"
   ]
  },
  {
   "cell_type": "code",
   "execution_count": 321,
   "metadata": {},
   "outputs": [
    {
     "data": {
      "image/png": "[encoded data removed]",
      "text/plain": [
       "<Figure size 432x288 with 2 Axes>"
      ]
     },
     "metadata": {},
     "output_type": "display_data"
    }
   ],
   "source": [
    "slope, intercept, r, p, err = linregress(HR_actual, HRg)\n",
    "def fit(X):\n",
    "    return slope*X + intercept\n",
    "\n",
    "Xs = np.arange(min(HR_actual), max(HR_actual)+1)\n",
    "layout = (2,4)\n",
    "fig = plt.figure()\n",
    "[ax, ax2] = [plt.subplot2grid(layout, (0,0), colspan=2, rowspan=2),\n",
    "             plt.subplot2grid(layout, (0,2), rowspan=2, colspan=2)]\n",
    "\n",
    "letter_subplots([ax, ax2], xoffset=[-0.3, -0.25], yoffset=[1., 1.])\n",
    "\n",
    "ax2.scatter(HR_actual, HRg)\n",
    "ax2.plot(Xs, fit(Xs), label=f\"$R={round(r,3)}$\", linestyle='--', linewidth=0.8)\n",
    "ax2.set_ylabel(\"$HR_{\\mathrm{pred}}$\", fontsize=14)\n",
    "ax2.set_xlabel(\"$HR_{\\mathrm{true}}$\", fontsize=14)\n",
    "ax2.legend(frameon=True)\n",
    "avg, diff = bland_altman(HR_actual, HRg)\n",
    "std_diff196 = np.std(diff)*1.96\n",
    "plus = np.mean(diff) + std_diff196\n",
    "minus = np.mean(diff) - std_diff196\n",
    "\n",
    "kwds = {'linestyle':'--','linewidth':0.9}\n",
    "ax.scatter(avg, diff)\n",
    "ax.text(5.8, np.mean(diff) + 0.01, f\"$\\mu= {round(np.mean(diff),3)}$\", color=\"C0\")\n",
    "ax.text(6.2,0.2,rf\"$\\mu + 1.96\\sigma={round(plus,3)}$\", color=\"C1\")\n",
    "ax.text(6.1,-0.2,rf\"$\\mu - 1.96\\sigma={round(minus,3)}$\", color=\"C1\")\n",
    "ax.set_xlabel(r\"$\\frac{\\log_{2}(HR_{\\mathrm{true}}) + \\log_{2}(HR_{\\mathrm{pred}})}{2}$\", fontsize=14)\n",
    "ax.set_ylabel(r\"$\\log_{2}(HR_{\\mathrm{true}}) - \\log_{2}(HR_\\mathrm{pred})$\", fontsize=12)\n",
    "ax.axhline(np.mean(diff), **kwds)\n",
    "ax.axhline(plus, **kwds, color=\"C1\")\n",
    "ax.axhline(minus, **kwds, color=\"C1\")\n",
    "plt.tight_layout(w_pad=0.4)\n",
    "plt.savefig(\"figs/HRperformance.pdf\")\n",
    "plt.show()"
   ]
  },
  {
   "cell_type": "code",
   "execution_count": 319,
   "metadata": {},
   "outputs": [
    {
     "data": {
      "image/png": "[encoded data removed]",
      "text/plain": [
       "<Figure size 345.6x345.6 with 2 Axes>"
      ]
     },
     "metadata": {},
     "output_type": "display_data"
    },
    {
     "name": "stdout",
     "output_type": "stream",
     "text": [
      "Correlation in preds RR gray: 0.1354974877530401\n",
      "Correlation in preds RR red:0.02533939710370304\n"
     ]
    }
   ],
   "source": [
    "slope, intercept, r, p, err = linregress(RR_actual, RRg)\n",
    "def fit(X):\n",
    "    return slope*X + intercept\n",
    "\n",
    "slope_r, intercept_r, rr, pr, errr = linregress(RR_actual, RRr)\n",
    "def fitred(X):\n",
    "    return slope_r*X + intercept_r\n",
    "    \n",
    "\n",
    "Xs = np.arange(min(RR_actual), max(RR_actual)+1)\n",
    "layout=(2,4)\n",
    "#fig = plt.figure(figsize=(6.4*0.75, 4.8))\n",
    "fig, [ax, ax2] = plt.subplots(2,1,figsize=(6.4*0.75, 4.8), sharex=True)   #= [plt.subplot2grid(layout, (0,0), colspan=2, rowspan=2),\n",
    "                #  plt.subplot2grid(layout, (0,2), rowspan=2, colspan=2)]\n",
    "                       #plt.subplot2grid(layout, (2,2), rowspan=2, colspan=2)]\n",
    "kwds = {'linestyle':'--','linewidth':0.9}\n",
    "\n",
    "letter_subplots([ax, ax2], xoffset=[-0.05, -0.05], yoffset=[1.01, 1.05])\n",
    "\n",
    "avg, diff = bland_altman(RR_actual, RRg)\n",
    "std_diff196 = np.std(diff)*1.96\n",
    "plus = np.mean(diff) + std_diff196\n",
    "minus = np.mean(diff) - std_diff196\n",
    "\n",
    "ax.scatter(avg, diff)\n",
    "# mu\n",
    "ax.text(4.8, np.mean(diff) + 0.05, f\"$\\mu = {round(np.mean(diff),3)}$\", color=\"C0\")\n",
    "# mu +\n",
    "ax.text(3.9,0.89,rf\"$\\mu + 1.96\\sigma={round(plus,3)}$\", color=\"C1\")\n",
    "# mu -\n",
    "ax.text(4.61,-1.02,rf\"$\\mu - 1.96\\sigma={round(minus,3)}$\", color=\"C1\")\n",
    "#ax.text(0, r\"$\\log_{2}(RR_{\\mathrm{true}}) - \\log_{2}(RR_\\mathrm{pred})$\", fontsize=12)\n",
    "ax.axhline(np.mean(diff), **kwds)\n",
    "ax.axhline(plus, **kwds, color=\"C1\")\n",
    "ax.axhline(minus, **kwds, color=\"C1\")\n",
    "ax.set_title(\"Grayscale\")\n",
    "\n",
    "avg, diff = bland_altman(RR_actual, RRr)\n",
    "std_diff196 = np.std(diff)*1.96\n",
    "plus = np.mean(diff) + std_diff196\n",
    "minus = np.mean(diff) - std_diff196\n",
    "\n",
    "ax2.scatter(avg, diff)\n",
    "# mu\n",
    "ax2.text(3.9, np.mean(diff) + 0.05, f\"$\\mu = {round(np.mean(diff),3)}$\", color=\"C0\")\n",
    "# mu +\n",
    "ax2.text(3.9,0.8,rf\"$\\mu + 1.96\\sigma={round(plus,3)}$\", color=\"C1\")\n",
    "# mu -\n",
    "ax2.text(3.9,-1.09,rf\"$\\mu - 1.96\\sigma={round(minus,3)}$\", color=\"C1\")\n",
    "ax2.axhline(np.mean(diff), **kwds)\n",
    "ax2.axhline(plus, **kwds, color=\"C1\")\n",
    "ax2.axhline(minus, **kwds, color=\"C1\")\n",
    "ax2.set_title(\"Red Channel\")\n",
    "\n",
    "fig.text(0.01, 0.52, r'$\\log_{2}(RR_{\\mathrm{true}}) - \\log_{2}(RR_{\\mathrm{pred}})$', va='center', rotation='vertical')\n",
    "fig.text(0.3 ,0.04, r\"$[\\log_{2}(RR_{\\mathrm{true}}) + \\log_{2}(RR_{\\mathrm{pred}})]/2$\", va='center')\n",
    "#plt.tight_layout(w_pad=1.5)\n",
    "#plt.subplots_adjust(top=1)#left=0, bottom=0, right=1, top=1, wspace=0, hspace=0)\n",
    "plt.savefig(\"figs/RRperformance.pdf\")\n",
    "plt.show()\n",
    "print(f'Correlation in preds RR gray: {r}')\n",
    "print(f\"Correlation in preds RR red:{rr}\")"
   ]
  },
  {
   "cell_type": "code",
   "execution_count": 247,
   "metadata": {},
   "outputs": [],
   "source": [
    "#HR_RRg__HR, HR_RRg__RR, HR_RRr__HR, HR_RRr__RR\n",
    "simul_df_hr = pd.DataFrame({'actual_hr':HR_actual, 'grey':HR_RRg__HR, 'red':HR_RRr__HR})\n",
    "simul_df_rr = pd.DataFrame({'actual_rr':RR_actual, 'grey':HR_RRg__RR, 'red':HR_RRr__RR})"
   ]
  },
  {
   "cell_type": "code",
   "execution_count": 248,
   "metadata": {},
   "outputs": [
    {
     "data": {
      "text/html": [
       "<div>\n",
       "<style scoped>\n",
       "    .dataframe tbody tr th:only-of-type {\n",
       "        vertical-align: middle;\n",
       "    }\n",
       "\n",
       "    .dataframe tbody tr th {\n",
       "        vertical-align: top;\n",
       "    }\n",
       "\n",
       "    .dataframe thead th {\n",
       "        text-align: right;\n",
       "    }\n",
       "</style>\n",
       "<table border=\"1\" class=\"dataframe\">\n",
       "  <thead>\n",
       "    <tr style=\"text-align: right;\">\n",
       "      <th></th>\n",
       "      <th>actual_hr</th>\n",
       "      <th>grey</th>\n",
       "      <th>red</th>\n",
       "    </tr>\n",
       "  </thead>\n",
       "  <tbody>\n",
       "    <tr>\n",
       "      <th>0</th>\n",
       "      <td>100.0</td>\n",
       "      <td>87.254967</td>\n",
       "      <td>88.569260</td>\n",
       "    </tr>\n",
       "    <tr>\n",
       "      <th>1</th>\n",
       "      <td>54.0</td>\n",
       "      <td>64.157242</td>\n",
       "      <td>69.311409</td>\n",
       "    </tr>\n",
       "    <tr>\n",
       "      <th>2</th>\n",
       "      <td>84.0</td>\n",
       "      <td>71.662086</td>\n",
       "      <td>75.873703</td>\n",
       "    </tr>\n",
       "    <tr>\n",
       "      <th>3</th>\n",
       "      <td>58.0</td>\n",
       "      <td>75.887962</td>\n",
       "      <td>66.083862</td>\n",
       "    </tr>\n",
       "    <tr>\n",
       "      <th>4</th>\n",
       "      <td>72.0</td>\n",
       "      <td>77.840187</td>\n",
       "      <td>69.000862</td>\n",
       "    </tr>\n",
       "    <tr>\n",
       "      <th>5</th>\n",
       "      <td>87.0</td>\n",
       "      <td>82.445854</td>\n",
       "      <td>78.195053</td>\n",
       "    </tr>\n",
       "    <tr>\n",
       "      <th>6</th>\n",
       "      <td>66.0</td>\n",
       "      <td>42.335030</td>\n",
       "      <td>73.115723</td>\n",
       "    </tr>\n",
       "    <tr>\n",
       "      <th>7</th>\n",
       "      <td>82.0</td>\n",
       "      <td>75.430923</td>\n",
       "      <td>76.341400</td>\n",
       "    </tr>\n",
       "    <tr>\n",
       "      <th>8</th>\n",
       "      <td>102.0</td>\n",
       "      <td>101.551949</td>\n",
       "      <td>90.883896</td>\n",
       "    </tr>\n",
       "    <tr>\n",
       "      <th>9</th>\n",
       "      <td>82.0</td>\n",
       "      <td>75.795738</td>\n",
       "      <td>81.038170</td>\n",
       "    </tr>\n",
       "    <tr>\n",
       "      <th>10</th>\n",
       "      <td>120.0</td>\n",
       "      <td>108.310448</td>\n",
       "      <td>117.553505</td>\n",
       "    </tr>\n",
       "    <tr>\n",
       "      <th>11</th>\n",
       "      <td>96.0</td>\n",
       "      <td>96.577065</td>\n",
       "      <td>89.610420</td>\n",
       "    </tr>\n",
       "    <tr>\n",
       "      <th>12</th>\n",
       "      <td>89.0</td>\n",
       "      <td>87.306801</td>\n",
       "      <td>74.822510</td>\n",
       "    </tr>\n",
       "    <tr>\n",
       "      <th>13</th>\n",
       "      <td>89.0</td>\n",
       "      <td>82.069992</td>\n",
       "      <td>78.335396</td>\n",
       "    </tr>\n",
       "  </tbody>\n",
       "</table>\n",
       "</div>"
      ],
      "text/plain": [
       "    actual_hr        grey         red\n",
       "0       100.0   87.254967   88.569260\n",
       "1        54.0   64.157242   69.311409\n",
       "2        84.0   71.662086   75.873703\n",
       "3        58.0   75.887962   66.083862\n",
       "4        72.0   77.840187   69.000862\n",
       "5        87.0   82.445854   78.195053\n",
       "6        66.0   42.335030   73.115723\n",
       "7        82.0   75.430923   76.341400\n",
       "8       102.0  101.551949   90.883896\n",
       "9        82.0   75.795738   81.038170\n",
       "10      120.0  108.310448  117.553505\n",
       "11       96.0   96.577065   89.610420\n",
       "12       89.0   87.306801   74.822510\n",
       "13       89.0   82.069992   78.335396"
      ]
     },
     "execution_count": 248,
     "metadata": {},
     "output_type": "execute_result"
    }
   ],
   "source": [
    "simul_df_hr"
   ]
  },
  {
   "cell_type": "code",
   "execution_count": 251,
   "metadata": {},
   "outputs": [],
   "source": [
    "simul_df_rr['SE_red'] = (simul_df_rr['actual_rr'] - simul_df_rr['red'])**2\n",
    "simul_df_rr['SE_grey'] = (simul_df_rr['actual_rr'] - simul_df_rr['grey'])**2"
   ]
  },
  {
   "cell_type": "code",
   "execution_count": 255,
   "metadata": {},
   "outputs": [
    {
     "name": "stdout",
     "output_type": "stream",
     "text": [
      "106.9473951386287\n",
      "94.63406652800248\n"
     ]
    }
   ],
   "source": [
    "print(simul_df_rr['SE_red'].mean())\n",
    "print(simul_df_rr['SE_grey'].mean())"
   ]
  },
  {
   "cell_type": "code",
   "execution_count": 257,
   "metadata": {
    "collapsed": true
   },
   "outputs": [],
   "source": [
    "simul_df_hr['SE_red'] = (simul_df_hr['actual_hr'] - simul_df_hr['red'])**2\n",
    "simul_df_hr['SE_grey'] = (simul_df_hr['actual_hr'] - simul_df_hr['grey'])**2"
   ]
  },
  {
   "cell_type": "code",
   "execution_count": 259,
   "metadata": {},
   "outputs": [
    {
     "name": "stdout",
     "output_type": "stream",
     "text": [
      "82.26441071737125\n",
      "115.88603891608156\n"
     ]
    }
   ],
   "source": [
    "print(simul_df_hr['SE_red'].mean())\n",
    "print(simul_df_hr['SE_grey'].mean())"
   ]
  },
  {
   "cell_type": "code",
   "execution_count": 278,
   "metadata": {},
   "outputs": [
    {
     "data": {
      "image/png": "[encoded data removed]",
      "text/plain": [
       "<Figure size 432x288 with 1 Axes>"
      ]
     },
     "metadata": {},
     "output_type": "display_data"
    }
   ],
   "source": [
    "preds_hr_red = np.array(simul_df_hr['red'].values.tolist())\n",
    "diff_hr_red = np.array(HR_actual) - preds_hr_red\n",
    "\n",
    "preds_rr_grey = np.array(simul_df_rr['grey'].values.tolist())\n",
    "diff_rr_grey = np.array(RR_actual) - preds_rr_red\n",
    "\n",
    "plt.scatter(RR_actual, preds_rr_grey)\n",
    "plt.show()"
   ]
  },
  {
   "cell_type": "code",
   "execution_count": 378,
   "metadata": {},
   "outputs": [
    {
     "data": {
      "image/png": "[encoded data removed]",
      "text/plain": [
       "<Figure size 432x345.6 with 2 Axes>"
      ]
     },
     "metadata": {},
     "output_type": "display_data"
    }
   ],
   "source": [
    "fig, [ax1, ax2] = plt.subplots(2,figsize=(6.4*0.75*1.25, 4.8))\n",
    "letter_subplots([ax1,ax2],xoffset=[-0.038,-0.038], yoffset=[1.1,1.1])\n",
    "\n",
    "avg, diff = bland_altman(RR_actual, simul_df_rr['grey'].values.tolist())\n",
    "mean_RR = np.mean(diff)\n",
    "plus = mean_RR + np.std(diff)*1.96\n",
    "minus = mean_RR - np.std(diff)*1.96\n",
    "\n",
    "ax1.set_title(\"Grayscale\")\n",
    "ax1.set_xlabel(r\"$[\\log_{2}(RR_{\\mathrm{true}}) + \\log_{2}(RR_{\\mathrm{pred}})]/2$\")\n",
    "ax1.scatter(avg, diff)\n",
    "ax1.axhline(plus, **kwds,color=\"C1\")\n",
    "ax1.axhline(mean_RR, **kwds)\n",
    "ax1.axhline(minus, **kwds, color=\"C1\")\n",
    "# plus\n",
    "ax1.text(4.2,0.8, rf\"$\\mu + 1.96\\sigma={round(plus,3)}$\", color=\"C1\")\n",
    "# minus\n",
    "ax1.text(4.2,-1., rf\"$\\mu - 1.96\\sigma={round(minus,3)}$\", color=\"C1\")\n",
    "# mu\n",
    "ax1.text(4.8, mean_RR + 0.025, rf\"$\\mu={round(mean_RR, 3)}$\",color=\"C0\")\n",
    "\n",
    "avg2, diff2 = bland_altman(HR_actual, simul_df_hr['red'].values.tolist())\n",
    "mean_HR = np.mean(diff2)\n",
    "plus2 = mean_HR + np.std(diff2)*1.96\n",
    "minus2 = mean_HR - np.std(diff2)*1.96\n",
    "\n",
    "ax2.set_title(\"Red channel\")\n",
    "ax2.scatter(avg2, diff2)\n",
    "ax2.axhline(plus, **kwds,color=\"C1\")\n",
    "ax2.axhline(mean_HR, **kwds)\n",
    "ax2.axhline(minus, **kwds, color=\"C1\")\n",
    "# plus\n",
    "ax2.text(5.95,0.8, rf\"$\\mu + 1.96\\sigma={round(plus2,3)}$\", color=\"C1\")\n",
    "# minus\n",
    "ax2.text(5.95,-1, rf\"$\\mu - 1.96\\sigma={round(minus2,3)}$\", color=\"C1\")\n",
    "# mu\n",
    "ax2.text(6.7, mean_RR + 0.1, rf\"$\\mu={round(mean_HR, 3)}$\",color=\"C0\")\n",
    "\n",
    "ax2.set_xlabel(r\"$[\\log_{2}(HR_{\\mathrm{true}}) + \\log_{2}(HR_{\\mathrm{pred}})]/2$\")\n",
    "ax1.set_ylabel(r\"$\\log_{2}(RR_\\mathrm{true}) - \\log_{2}(RR_\\mathrm{pred})$\")\n",
    "ax2.set_ylabel(r\"$\\log_{2}(HR_\\mathrm{true}) - \\log_{2}(HR_\\mathrm{pred})$\")\n",
    "\n",
    "#plt.subplots_adjust(wspace=0.5)\n",
    "plt.tight_layout()\n",
    "plt.savefig(\"figs/HR_RR_performance.pdf\")\n",
    "plt.show()"
   ]
  },
  {
   "cell_type": "code",
   "execution_count": 282,
   "metadata": {},
   "outputs": [
    {
     "data": {
      "image/png": "[encoded data removed]",
      "text/plain": [
       "<Figure size 432x288 with 1 Axes>"
      ]
     },
     "metadata": {},
     "output_type": "display_data"
    }
   ],
   "source": []
  },
  {
   "cell_type": "code",
   "execution_count": null,
   "metadata": {
    "collapsed": true
   },
   "outputs": [],
   "source": []
  }
 ],
 "metadata": {
  "kernelspec": {
   "display_name": "Python 3",
   "language": "python",
   "name": "python3"
  },
  "language_info": {
   "codemirror_mode": {
    "name": "ipython",
    "version": 3
   },
   "file_extension": ".py",
   "mimetype": "text/x-python",
   "name": "python",
   "nbconvert_exporter": "python",
   "pygments_lexer": "ipython3",
   "version": "3.6.1"
  }
 },
 "nbformat": 4,
 "nbformat_minor": 2
}
