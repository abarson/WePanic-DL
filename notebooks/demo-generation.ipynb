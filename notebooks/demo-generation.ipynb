{
 "cells": [
  {
   "cell_type": "markdown",
   "metadata": {},
   "source": [
    "### Provide some insights into the ultimate goal of generating a demo video/gif file\n",
    "* Show a pulsing video\n",
    "* The greyscaled version of the video in the bottom right corner\n",
    "* The predicted heart rate, actual heart rate\n",
    "* The predicted respiratory rate, actual respiratory rate\n",
    "* The  error of each prediction.\n",
    "\n",
    "### Plan\n",
    "<ol>\n",
    "<li> Select the video in the test set on which we have the highest performance in both heart rate and respiratory rate prediction.</li>\n",
    "<li> If this video is 60fps, convert to 30fps. </li>\n",
    "<li> Extract frames from the video (actual size). Convert frames to 32x32x3 in new directory.</li>\n",
    "<li> Step through correponding big, small frames in order.</li>\n",
    "<li>Predict the HR,RR for the interval $[\\mathrm{frame}_{i}$, $\\mathrm{frame}_{i + 180}]$ by downsampling frame chunk by every other frame to sequence of 90.</li>\n",
    "<li>Place small frame in nice place in big frame</li>\n",
    "<li>Place actual, predicted heat rate, respiratory rate, and error in big frame.</li>\n",
    "</ol>"
   ]
  },
  {
   "cell_type": "code",
   "execution_count": 53,
   "metadata": {
    "collapsed": true
   },
   "outputs": [],
   "source": [
    "import pandas as pd\n",
    "import numpy as np"
   ]
  },
  {
   "cell_type": "code",
   "execution_count": 54,
   "metadata": {},
   "outputs": [],
   "source": [
    "RRg = pd.read_csv(\"../TOPMODS/rr_greyscale//QBC.csv\")\n",
    "HRg = pd.read_csv(\"../TOPMODS/hr_greyscale/QBC.csv\")\n",
    "wpcc = pd.read_csv(\"../WPCC_new-dist.csv\")\n",
    "\n",
    "HRg = HRg.drop('Unnamed: 0',axis=1)\n",
    "RRg = RRg.drop('Unnamed: 0',axis=1)"
   ]
  },
  {
   "cell_type": "code",
   "execution_count": 55,
   "metadata": {
    "collapsed": true
   },
   "outputs": [],
   "source": [
    "testset = wpcc[wpcc['GOOD'] == 3]\n",
    "testset.index = range(len(testset))"
   ]
  },
  {
   "cell_type": "code",
   "execution_count": 56,
   "metadata": {},
   "outputs": [],
   "source": [
    "RRg['error_rr'] = (RRg['actual_rr'] - RRg['QBC_rr'])**2\n",
    "HRg['error_hr'] = (HRg['actual_hr'] - HRg['QBC_hr'])**2"
   ]
  },
  {
   "cell_type": "code",
   "execution_count": 57,
   "metadata": {},
   "outputs": [],
   "source": [
    "for col in RRg.columns:\n",
    "    HRg[col] = RRg[col]"
   ]
  },
  {
   "cell_type": "code",
   "execution_count": 58,
   "metadata": {},
   "outputs": [],
   "source": [
    "errs = list(zip(HRg.error_hr, HRg.error_rr, HRg.index))"
   ]
  },
  {
   "cell_type": "code",
   "execution_count": 59,
   "metadata": {},
   "outputs": [],
   "source": [
    "top1 = sorted(errs, key=lambda tup: tup[0]+tup[1])[0]"
   ]
  },
  {
   "cell_type": "code",
   "execution_count": 60,
   "metadata": {},
   "outputs": [
    {
     "data": {
      "text/plain": [
       "(0.400490284897387, 10.24270281504505, 8)"
      ]
     },
     "execution_count": 60,
     "metadata": {},
     "output_type": "execute_result"
    }
   ],
   "source": [
    "top1"
   ]
  },
  {
   "cell_type": "code",
   "execution_count": 61,
   "metadata": {},
   "outputs": [
    {
     "data": {
      "text/plain": [
       "SUBJECT                                        107\n",
       "TRIAL                                            2\n",
       "FRAME_PTH          glued_32_32/S0107/Trial2_frames\n",
       "HEART_RATE_BPM                                 102\n",
       "RESP_RATE_BR_PM                                 20\n",
       "GOOD                                             3\n",
       "Name: 8, dtype: object"
      ]
     },
     "execution_count": 61,
     "metadata": {},
     "output_type": "execute_result"
    }
   ],
   "source": [
    "top1_row = testset.loc[top1[2]]"
   ]
  },
  {
   "cell_type": "code",
   "execution_count": 68,
   "metadata": {},
   "outputs": [
    {
     "name": "stdout",
     "output_type": "stream",
     "text": [
      "Best test set (subject, trial) = (107,2)\n"
     ]
    }
   ],
   "source": [
    "print('Best test set (subject, trial) = ({subject},{trial})'.format(subject=int(top1_row['SUBJECT']),\n",
    "                                                                     trial=top1_row['TRIAL']))"
   ]
  },
  {
   "cell_type": "code",
   "execution_count": null,
   "metadata": {
    "collapsed": true
   },
   "outputs": [],
   "source": []
  }
 ],
 "metadata": {
  "kernelspec": {
   "display_name": "Python 3",
   "language": "python",
   "name": "python3"
  },
  "language_info": {
   "codemirror_mode": {
    "name": "ipython",
    "version": 3
   },
   "file_extension": ".py",
   "mimetype": "text/x-python",
   "name": "python",
   "nbconvert_exporter": "python",
   "pygments_lexer": "ipython3",
   "version": "3.6.1"
  }
 },
 "nbformat": 4,
 "nbformat_minor": 2
}
