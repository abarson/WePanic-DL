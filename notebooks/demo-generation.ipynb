{
 "cells": [
  {
   "cell_type": "markdown",
   "metadata": {},
   "source": [
    "### Provide some insights into the ultimate goal of generating a demo video/gif file\n",
    "* Show a pulsing video\n",
    "* The greyscaled version of the video in the bottom right corner\n",
    "* The predicted heart rate, actual heart rate\n",
    "* The predicted respiratory rate, actual respiratory rate\n",
    "* The  error of each prediction.\n",
    "\n",
    "### Plan\n",
    "<ol>\n",
    "<li> Select the video in the test set on which we have the highest performance in both heart rate and respiratory rate prediction.</li>\n",
    "<li> If this video is 60fps, convert to 30fps. </li>\n",
    "<li> Extract frames from the video (actual size). Convert frames to 32x32x3 in new directory.</li>\n",
    "<li> Step through correponding big, small frames in order.</li>\n",
    "<li>Predict the HR,RR for the interval $[\\mathrm{frame}_{i}$, $\\mathrm{frame}_{i + 180}]$ by downsampling frame chunk by every other frame to sequence of 90.</li>\n",
    "<li>Place small frame in nice place in big frame</li>\n",
    "<li>Place actual, predicted heat rate, respiratory rate, and error in big frame.</li>\n",
    "</ol>"
   ]
  },
  {
   "cell_type": "code",
   "execution_count": 1,
   "metadata": {
    "collapsed": true
   },
   "outputs": [],
   "source": [
    "import pandas as pd\n",
    "import numpy as np"
   ]
  },
  {
   "cell_type": "code",
   "execution_count": 4,
   "metadata": {
    "collapsed": true
   },
   "outputs": [],
   "source": [
    "RRg = pd.read_csv(\"../TOPMODS/rr_greyscale//QBC.csv\")\n",
    "HRg = pd.read_csv(\"../TOPMODS/hr_greyscale/QBC.csv\")\n",
    "wpcc = pd.read_csv(\"../WPCC_new-dist.csv\")"
   ]
  },
  {
   "cell_type": "code",
   "execution_count": 5,
   "metadata": {
    "collapsed": true
   },
   "outputs": [],
   "source": [
    "testset = wpcc[wpcc['GOOD'] == 3]\n"
   ]
  }
 ],
 "metadata": {
  "kernelspec": {
   "display_name": "Python 3",
   "language": "python",
   "name": "python3"
  },
  "language_info": {
   "codemirror_mode": {
    "name": "ipython",
    "version": 3
   },
   "file_extension": ".py",
   "mimetype": "text/x-python",
   "name": "python",
   "nbconvert_exporter": "python",
   "pygments_lexer": "ipython3",
   "version": "3.6.1"
  }
 },
 "nbformat": 4,
 "nbformat_minor": 2
}
