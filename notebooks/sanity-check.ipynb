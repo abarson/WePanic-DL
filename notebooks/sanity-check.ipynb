{
 "cells": [
  {
   "cell_type": "code",
   "execution_count": 1,
   "metadata": {},
   "outputs": [
    {
     "name": "stderr",
     "output_type": "stream",
     "text": [
      "/anaconda3/lib/python3.6/site-packages/h5py/__init__.py:36: FutureWarning: Conversion of the second argument of issubdtype from `float` to `np.floating` is deprecated. In future, it will be treated as `np.float64 == np.dtype(float).type`.\n",
      "  from ._conv import register_converters as _register_converters\n",
      "Using TensorFlow backend.\n"
     ]
    }
   ],
   "source": [
    "import we_panic_utils.nn.data_load as dl\n",
    "import we_panic_utils.nn.processing as p\n",
    "import matplotlib.pyplot as plt\n",
    "import numpy as np\n",
    "import matplotlib.animation as animation\n",
    "import site"
   ]
  },
  {
   "cell_type": "code",
   "execution_count": 2,
   "metadata": {},
   "outputs": [
    {
     "name": "stdout",
     "output_type": "stream",
     "text": [
      "[check_exists_create_if_not] making a dir: boop\n"
     ]
    }
   ],
   "source": [
    "train, test, val = dl.create_train_test_split_dataframes('rsz', 'subject_data.csv', 'boop')\n",
    "gen_gray = p.FrameProcessor(batch_size=2, greyscale_on=True).testing_generator_v3(val)\n",
    "gen_color = p.FrameProcessor(batch_size=2, greyscale_on=False).testing_generator_v3(val)"
   ]
  },
  {
   "cell_type": "code",
   "execution_count": 3,
   "metadata": {},
   "outputs": [
    {
     "data": {
      "text/html": [
       "<div>\n",
       "<style scoped>\n",
       "    .dataframe tbody tr th:only-of-type {\n",
       "        vertical-align: middle;\n",
       "    }\n",
       "\n",
       "    .dataframe tbody tr th {\n",
       "        vertical-align: top;\n",
       "    }\n",
       "\n",
       "    .dataframe thead th {\n",
       "        text-align: right;\n",
       "    }\n",
       "</style>\n",
       "<table border=\"1\" class=\"dataframe\">\n",
       "  <thead>\n",
       "    <tr style=\"text-align: right;\">\n",
       "      <th></th>\n",
       "      <th>Subject</th>\n",
       "      <th>Trial</th>\n",
       "      <th>Path</th>\n",
       "      <th>Heart Rate</th>\n",
       "      <th>Respiratory Rate</th>\n",
       "    </tr>\n",
       "  </thead>\n",
       "  <tbody>\n",
       "    <tr>\n",
       "      <th>6</th>\n",
       "      <td>8</td>\n",
       "      <td>2</td>\n",
       "      <td>rsz/S0008/Trial2_frames</td>\n",
       "      <td>84.0</td>\n",
       "      <td>12.000000</td>\n",
       "    </tr>\n",
       "    <tr>\n",
       "      <th>135</th>\n",
       "      <td>a208</td>\n",
       "      <td>2</td>\n",
       "      <td>rsz/Sa208/Trial2_frames</td>\n",
       "      <td>168.0</td>\n",
       "      <td>42.000000</td>\n",
       "    </tr>\n",
       "    <tr>\n",
       "      <th>136</th>\n",
       "      <td>b208</td>\n",
       "      <td>2</td>\n",
       "      <td>rsz/Sb208/Trial2_frames</td>\n",
       "      <td>140.0</td>\n",
       "      <td>35.000000</td>\n",
       "    </tr>\n",
       "    <tr>\n",
       "      <th>137</th>\n",
       "      <td>c208</td>\n",
       "      <td>2</td>\n",
       "      <td>rsz/Sc208/Trial2_frames</td>\n",
       "      <td>120.0</td>\n",
       "      <td>30.000000</td>\n",
       "    </tr>\n",
       "    <tr>\n",
       "      <th>138</th>\n",
       "      <td>d208</td>\n",
       "      <td>2</td>\n",
       "      <td>rsz/Sd208/Trial2_frames</td>\n",
       "      <td>105.0</td>\n",
       "      <td>26.250000</td>\n",
       "    </tr>\n",
       "    <tr>\n",
       "      <th>139</th>\n",
       "      <td>e208</td>\n",
       "      <td>2</td>\n",
       "      <td>rsz/Se208/Trial2_frames</td>\n",
       "      <td>93.3</td>\n",
       "      <td>23.333333</td>\n",
       "    </tr>\n",
       "    <tr>\n",
       "      <th>140</th>\n",
       "      <td>f208</td>\n",
       "      <td>2</td>\n",
       "      <td>rsz/Sf208/Trial2_frames</td>\n",
       "      <td>70.0</td>\n",
       "      <td>17.500000</td>\n",
       "    </tr>\n",
       "    <tr>\n",
       "      <th>141</th>\n",
       "      <td>g208</td>\n",
       "      <td>2</td>\n",
       "      <td>rsz/Sg208/Trial2_frames</td>\n",
       "      <td>60.0</td>\n",
       "      <td>15.000000</td>\n",
       "    </tr>\n",
       "    <tr>\n",
       "      <th>142</th>\n",
       "      <td>h208</td>\n",
       "      <td>2</td>\n",
       "      <td>rsz/Sh208/Trial2_frames</td>\n",
       "      <td>52.5</td>\n",
       "      <td>13.125000</td>\n",
       "    </tr>\n",
       "    <tr>\n",
       "      <th>143</th>\n",
       "      <td>i208</td>\n",
       "      <td>2</td>\n",
       "      <td>rsz/Si208/Trial2_frames</td>\n",
       "      <td>46.7</td>\n",
       "      <td>11.666667</td>\n",
       "    </tr>\n",
       "    <tr>\n",
       "      <th>144</th>\n",
       "      <td>j208</td>\n",
       "      <td>2</td>\n",
       "      <td>rsz/Sj208/Trial2_frames</td>\n",
       "      <td>42.0</td>\n",
       "      <td>10.500000</td>\n",
       "    </tr>\n",
       "    <tr>\n",
       "      <th>13</th>\n",
       "      <td>25</td>\n",
       "      <td>1</td>\n",
       "      <td>rsz/S0025/Trial1_frames</td>\n",
       "      <td>80.0</td>\n",
       "      <td>20.000000</td>\n",
       "    </tr>\n",
       "    <tr>\n",
       "      <th>76</th>\n",
       "      <td>a125</td>\n",
       "      <td>1</td>\n",
       "      <td>rsz/Sa125/Trial1_frames</td>\n",
       "      <td>160.0</td>\n",
       "      <td>40.000000</td>\n",
       "    </tr>\n",
       "    <tr>\n",
       "      <th>77</th>\n",
       "      <td>b125</td>\n",
       "      <td>1</td>\n",
       "      <td>rsz/Sb125/Trial1_frames</td>\n",
       "      <td>133.3</td>\n",
       "      <td>33.333333</td>\n",
       "    </tr>\n",
       "    <tr>\n",
       "      <th>78</th>\n",
       "      <td>c125</td>\n",
       "      <td>1</td>\n",
       "      <td>rsz/Sc125/Trial1_frames</td>\n",
       "      <td>114.3</td>\n",
       "      <td>28.571429</td>\n",
       "    </tr>\n",
       "    <tr>\n",
       "      <th>79</th>\n",
       "      <td>d125</td>\n",
       "      <td>1</td>\n",
       "      <td>rsz/Sd125/Trial1_frames</td>\n",
       "      <td>100.0</td>\n",
       "      <td>25.000000</td>\n",
       "    </tr>\n",
       "    <tr>\n",
       "      <th>80</th>\n",
       "      <td>e125</td>\n",
       "      <td>1</td>\n",
       "      <td>rsz/Se125/Trial1_frames</td>\n",
       "      <td>88.9</td>\n",
       "      <td>22.222222</td>\n",
       "    </tr>\n",
       "    <tr>\n",
       "      <th>81</th>\n",
       "      <td>f125</td>\n",
       "      <td>1</td>\n",
       "      <td>rsz/Sf125/Trial1_frames</td>\n",
       "      <td>66.7</td>\n",
       "      <td>16.666667</td>\n",
       "    </tr>\n",
       "    <tr>\n",
       "      <th>82</th>\n",
       "      <td>g125</td>\n",
       "      <td>1</td>\n",
       "      <td>rsz/Sg125/Trial1_frames</td>\n",
       "      <td>57.1</td>\n",
       "      <td>14.285714</td>\n",
       "    </tr>\n",
       "    <tr>\n",
       "      <th>83</th>\n",
       "      <td>h125</td>\n",
       "      <td>1</td>\n",
       "      <td>rsz/Sh125/Trial1_frames</td>\n",
       "      <td>50.0</td>\n",
       "      <td>12.500000</td>\n",
       "    </tr>\n",
       "    <tr>\n",
       "      <th>84</th>\n",
       "      <td>i125</td>\n",
       "      <td>1</td>\n",
       "      <td>rsz/Si125/Trial1_frames</td>\n",
       "      <td>44.4</td>\n",
       "      <td>11.111111</td>\n",
       "    </tr>\n",
       "    <tr>\n",
       "      <th>85</th>\n",
       "      <td>j125</td>\n",
       "      <td>1</td>\n",
       "      <td>rsz/Sj125/Trial1_frames</td>\n",
       "      <td>40.0</td>\n",
       "      <td>10.000000</td>\n",
       "    </tr>\n",
       "  </tbody>\n",
       "</table>\n",
       "</div>"
      ],
      "text/plain": [
       "    Subject  Trial                     Path  Heart Rate  Respiratory Rate\n",
       "6         8      2  rsz/S0008/Trial2_frames        84.0         12.000000\n",
       "135    a208      2  rsz/Sa208/Trial2_frames       168.0         42.000000\n",
       "136    b208      2  rsz/Sb208/Trial2_frames       140.0         35.000000\n",
       "137    c208      2  rsz/Sc208/Trial2_frames       120.0         30.000000\n",
       "138    d208      2  rsz/Sd208/Trial2_frames       105.0         26.250000\n",
       "139    e208      2  rsz/Se208/Trial2_frames        93.3         23.333333\n",
       "140    f208      2  rsz/Sf208/Trial2_frames        70.0         17.500000\n",
       "141    g208      2  rsz/Sg208/Trial2_frames        60.0         15.000000\n",
       "142    h208      2  rsz/Sh208/Trial2_frames        52.5         13.125000\n",
       "143    i208      2  rsz/Si208/Trial2_frames        46.7         11.666667\n",
       "144    j208      2  rsz/Sj208/Trial2_frames        42.0         10.500000\n",
       "13       25      1  rsz/S0025/Trial1_frames        80.0         20.000000\n",
       "76     a125      1  rsz/Sa125/Trial1_frames       160.0         40.000000\n",
       "77     b125      1  rsz/Sb125/Trial1_frames       133.3         33.333333\n",
       "78     c125      1  rsz/Sc125/Trial1_frames       114.3         28.571429\n",
       "79     d125      1  rsz/Sd125/Trial1_frames       100.0         25.000000\n",
       "80     e125      1  rsz/Se125/Trial1_frames        88.9         22.222222\n",
       "81     f125      1  rsz/Sf125/Trial1_frames        66.7         16.666667\n",
       "82     g125      1  rsz/Sg125/Trial1_frames        57.1         14.285714\n",
       "83     h125      1  rsz/Sh125/Trial1_frames        50.0         12.500000\n",
       "84     i125      1  rsz/Si125/Trial1_frames        44.4         11.111111\n",
       "85     j125      1  rsz/Sj125/Trial1_frames        40.0         10.000000"
      ]
     },
     "execution_count": 3,
     "metadata": {},
     "output_type": "execute_result"
    }
   ],
   "source": [
    "val"
   ]
  },
  {
   "cell_type": "code",
   "execution_count": 4,
   "metadata": {},
   "outputs": [],
   "source": [
    "imgs_gray = next(gen_gray)[0][0]\n",
    "imgs_color = next(gen_color)[0][0]"
   ]
  },
  {
   "cell_type": "code",
   "execution_count": 5,
   "metadata": {},
   "outputs": [
    {
     "data": {
      "text/plain": [
       "(60, 100, 100, 1)"
      ]
     },
     "execution_count": 5,
     "metadata": {},
     "output_type": "execute_result"
    }
   ],
   "source": [
    "imgs_gray.shape"
   ]
  },
  {
   "cell_type": "code",
   "execution_count": 8,
   "metadata": {},
   "outputs": [],
   "source": [
    "nb_frames = 1\n",
    "def show_frame(num, grays, colors):\n",
    "    current = grays[num]\n",
    "    print(num)\n",
    "    imgg = np.reshape(current, (100, 100))\n",
    "    plt.imshow(np.asarray(imgg), cmap='gray')"
   ]
  },
  {
   "cell_type": "code",
   "execution_count": 9,
   "metadata": {},
   "outputs": [
    {
     "name": "stdout",
     "output_type": "stream",
     "text": [
      "0\n",
      "0\n",
      "0\n"
     ]
    },
    {
     "data": {
      "text/plain": [
       "<Figure size 432x288 with 0 Axes>"
      ]
     },
     "metadata": {},
     "output_type": "display_data"
    },
    {
     "data": {
      "image/png": "[encoded data removed]",
      "text/plain": [
       "<Figure size 432x288 with 1 Axes>"
      ]
     },
     "metadata": {},
     "output_type": "display_data"
    }
   ],
   "source": [
    "plt.clf()\n",
    "fig = plt.figure()\n",
    "anim = animation.FuncAnimation(fig,\n",
    "                              show_frame,\n",
    "                              nb_frames,\n",
    "                              fargs=(imgs_gray, imgs_color))\n",
    "anim.save('animation.mp4', writer='ffmpeg', dpi=600, fps=6)"
   ]
  },
  {
   "cell_type": "code",
   "execution_count": null,
   "metadata": {
    "collapsed": true
   },
   "outputs": [],
   "source": []
  }
 ],
 "metadata": {
  "kernelspec": {
   "display_name": "Python 3",
   "language": "python",
   "name": "python3"
  },
  "language_info": {
   "codemirror_mode": {
    "name": "ipython",
    "version": 3
   },
   "file_extension": ".py",
   "mimetype": "text/x-python",
   "name": "python",
   "nbconvert_exporter": "python",
   "pygments_lexer": "ipython3",
   "version": "3.6.4"
  }
 },
 "nbformat": 4,
 "nbformat_minor": 2
}
